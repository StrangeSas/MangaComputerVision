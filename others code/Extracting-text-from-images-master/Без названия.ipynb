{
 "cells": [
  {
   "cell_type": "code",
   "execution_count": 1,
   "id": "eb2f32c3-f912-4916-ad54-674e90e64e8d",
   "metadata": {},
   "outputs": [],
   "source": [
    "\n",
    "import cv2\n",
    "import numpy as np\n",
    "import matplotlib.pyplot as plt\n",
    "%matplotlib inline\n",
    "from IPython.display import Image\n",
    "from pytesseract import pytesseract\n",
    "from PIL import Image\n",
    "import tempfile"
   ]
  },
  {
   "cell_type": "code",
   "execution_count": 2,
   "id": "613a5cb6-d8ca-4818-b5dc-7d8ece5e7846",
   "metadata": {},
   "outputs": [],
   "source": [
    "pytesseract.tesseract_cmd = 'C:\\\\Program Files\\\\Tesseract-OCR\\\\tesseract.exe'"
   ]
  },
  {
   "cell_type": "code",
   "execution_count": 3,
   "id": "76b9956e-7a70-4899-85b0-47125711a787",
   "metadata": {
    "tags": []
   },
   "outputs": [
    {
     "name": "stdout",
     "output_type": "stream",
     "text": [
      "OUTPUT BEGINS\n",
      "-------------------------\n",
      "Makimna\n",
      "is | &\n",
      "listening 1%\n",
      "\n",
      "\n"
     ]
    }
   ],
   "source": [
    "\n",
    "#reading of image\n",
    "image = cv2.imread('../../db/makima.png')\n",
    "\n",
    "if image is None:\n",
    "    print('Could not open or find the image: ')\n",
    "    exit(0)\n",
    "\n",
    "new_image = np.zeros(image.shape, image.dtype)\n",
    "alpha = 1.4 # contrast control\n",
    "beta = 0    # brightness control\n",
    "\n",
    "print('OUTPUT BEGINS')\n",
    "print('-------------------------')\n",
    "\n",
    "#see readme file for explanation.\n",
    "for y in range(image.shape[0]):\n",
    "    for x in range(image.shape[1]):\n",
    "        for c in range(image.shape[2]):\n",
    "            new_image[y,x,c] = np.clip(alpha*image[y,x,c] + beta, 0, 255)\n",
    "            \n",
    "#displaying cintrasted image.\n",
    "cv2.imshow('Contrast', new_image)\n",
    "cv2.waitKey(0) \n",
    "\n",
    "#grayscaling contrasted image\n",
    "gray_image = cv2.cvtColor(new_image, cv2.COLOR_BGR2GRAY)\n",
    "\n",
    "#thresholding image\n",
    "ret,thresh1 = cv2.threshold(gray_image, 127, 255, cv2.THRESH_BINARY)\n",
    "cv2.imshow('Threshold Binary', thresh1)\n",
    "cv2.waitKey(0) \n",
    "#saving image\n",
    "cv2.imwrite('../../db/makima1.png',thresh1)\n",
    "cv2.waitKey(0)\n",
    "\n",
    "#tesseract configuration\n",
    "config = ('-l eng --oem 1 --psm 3')\n",
    " \n",
    "  # Read image from disk\n",
    "im = cv2.imread('../../db/makima1.png', cv2.IMREAD_COLOR)\n",
    " \n",
    "  # tesseract OCR on image\n",
    "text = pytesseract.image_to_string(im, config=config)\n",
    "print(text)\n",
    "\n",
    "# Create a black image\n",
    "img = np.zeros((1924,1024,3), np.uint8)\n",
    "  \n",
    "text3=repr(text)\n",
    "font                   = cv2.FONT_HERSHEY_COMPLEX\n",
    "bottomLeftCornerOfText = (10,50)\n",
    "fontScale              = 1\n",
    "fontColor              = (255,255,255)\n",
    "lineType               = 2\n",
    "\n",
    "# Print each line. \n",
    "cv2.putText(img,text, \n",
    "    bottomLeftCornerOfText, \n",
    "    font, \n",
    "    fontScale,\n",
    "    fontColor,\n",
    "    lineType)\n",
    "\n",
    "#Display the image\n",
    "cv2.imshow(\"img\",img)\n",
    "\n",
    "#Save image\n",
    "cv2.imwrite(\"out.jpg\", img)\n",
    "\n",
    "cv2.waitKey(0)\n",
    "cv2.waitKey()\n",
    "cv2.destroyAllWindows()\n"
   ]
  },
  {
   "cell_type": "code",
   "execution_count": null,
   "id": "bf2edc39-83ce-422a-88ab-00ba4768f4da",
   "metadata": {},
   "outputs": [],
   "source": []
  }
 ],
 "metadata": {
  "kernelspec": {
   "display_name": "Python 3 (ipykernel)",
   "language": "python",
   "name": "python3"
  },
  "language_info": {
   "codemirror_mode": {
    "name": "ipython",
    "version": 3
   },
   "file_extension": ".py",
   "mimetype": "text/x-python",
   "name": "python",
   "nbconvert_exporter": "python",
   "pygments_lexer": "ipython3",
   "version": "3.11.8"
  }
 },
 "nbformat": 4,
 "nbformat_minor": 5
}
