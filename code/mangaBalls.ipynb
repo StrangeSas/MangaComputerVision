{
 "cells": [
  {
   "cell_type": "code",
   "execution_count": 1,
   "id": "f3857a96-2319-43c7-a631-523914b9d151",
   "metadata": {
    "tags": []
   },
   "outputs": [],
   "source": [
    "#51:31\n",
    "\n",
    "import cv2\n",
    "import numpy as np\n",
    "import matplotlib.pyplot as plt\n",
    "%matplotlib inline\n",
    "from IPython.display import Image\n",
    "from pytesseract import pytesseract\n",
    "from PIL import Image\n",
    "import tempfile"
   ]
  },
  {
   "cell_type": "code",
   "execution_count": 2,
   "id": "5b8ef9ad-29f7-4706-9e98-2660daf12aee",
   "metadata": {},
   "outputs": [],
   "source": [
    "pytesseract.tesseract_cmd = 'C:\\\\Program Files\\\\Tesseract-OCR\\\\tesseract.exe'"
   ]
  },
  {
   "cell_type": "code",
   "execution_count": 3,
   "id": "7cd0890b-0f15-4304-9f6c-9201b38e65bc",
   "metadata": {},
   "outputs": [
    {
     "data": {
      "text/plain": [
       "\"\\nOne easy way, that was used by many OCR libs as well during many years is\\nto use the projected profile in 2D, if there is text, it will have some bumps, \\nif not, it's an image.\\nIt's very simple and efficient and doesn't require deep learning at all. \\n\""
      ]
     },
     "execution_count": 3,
     "metadata": {},
     "output_type": "execute_result"
    }
   ],
   "source": [
    "\"\"\"\n",
    "One easy way, that was used by many OCR libs as well during many years is\n",
    "to use the projected profile in 2D, if there is text, it will have some bumps, \n",
    "if not, it's an image.\n",
    "It's very simple and efficient and doesn't require deep learning at all. \n",
    "\"\"\""
   ]
  },
  {
   "cell_type": "code",
   "execution_count": 4,
   "id": "29ab6fb9-4615-43c4-9a31-4b8586f05232",
   "metadata": {
    "tags": []
   },
   "outputs": [],
   "source": [
    "\n",
    "def set_image_dpi(path):\n",
    "    im = cv2.imread(path, cv2.IMREAD_COLOR)\n",
    "    length_x, width_y,c = im.shape\n",
    "    factor = min(1, float(1024.0 / length_x))\n",
    "    size = int(factor * length_x), int(factor * width_y)\n",
    "    im_resized = cv2.resize(im, size, interpolation = cv2.INTER_AREA)\n",
    "    return im"
   ]
  },
  {
   "cell_type": "code",
   "execution_count": 5,
   "id": "332cee87-488f-41ee-85a3-d2f0e4937890",
   "metadata": {
    "tags": []
   },
   "outputs": [
    {
     "name": "stdout",
     "output_type": "stream",
     "text": [
      "['G', '164', '157', '232', '192', '0']\n",
      "['Z', '207', '157', '232', '192', '0']\n",
      "['A', '103', '149', '168', '173', '0']\n",
      "['N', '190', '161', '196', '166', '0']\n",
      "['=', '92', '129', '136', '157', '0']\n",
      "['~', '62', '0', '1032', '707', '0']\n"
     ]
    },
    {
     "data": {
      "text/plain": [
       "-1"
      ]
     },
     "execution_count": 5,
     "metadata": {},
     "output_type": "execute_result"
    }
   ],
   "source": [
    "#Что нужно:\n",
    "#Взять картинку и найти там хоть какой-то текст\n",
    "#Выделить его\n",
    "# Обрезать его полностью \n",
    "#Определить средний цвет текста\n",
    "#Эроднуть выделенный цвет. Обрезать всё к хуям вне этих пикселей. (Это на цветных только)\n",
    "#\n",
    "#На черно белых - потыкаться с обрезаниями и т.д.\n",
    "# Найти наибольшее скопление белого без полосок и тд.\n",
    "#Там поискать текст. Если он там - выделяем и пытаемся его в текстовой формат перевести.\n",
    "\n",
    "#https://github.com/AsiriAmalk/Comic_Speech_Bubble_Identifier_Using_Pytesseract\n",
    "#https://github.com/harikc456/speech-bubble-extraction\n",
    "#Это можно для баблов, потом нарезав их на баблы, уже можно искать в них текст.\n",
    "#Для манхвы придётся извернуться, чтобы детектить там текст в них.\n",
    "\n",
    "image_ball = set_image_dpi('../db/makimaText.png')\n",
    "norm_img = np.zeros((image_ball.shape[0], image_ball.shape[1]))\n",
    "image_balls = cv2.normalize(image_ball, norm_img, 0, 255, cv2.NORM_MINMAX)\n",
    "\n",
    "\n",
    "image_balls = cv2.fastNlMeansDenoisingColored(image_balls, None, 10, 10, 7, 15)\n",
    "\n",
    "kernel = np.ones((5,5),np.uint8)\n",
    "erosion = cv2.erode(image_balls, kernel, iterations = 1)\n",
    "\n",
    "image_balls = cv2.cvtColor(image_balls, cv2.COLOR_BGR2GRAY)\n",
    "\n",
    "row, col = image_balls.shape[:2]\n",
    "bottom = image_balls[row-2:row, 0:col]\n",
    "mean = cv2.mean(bottom)[0]\n",
    "\n",
    "border_size = 100\n",
    "border = cv2.copyMakeBorder(\n",
    "    image_balls,\n",
    "    top=border_size,\n",
    "    bottom=border_size,\n",
    "    left=border_size,\n",
    "    right=border_size,\n",
    "    borderType=cv2.BORDER_CONSTANT,\n",
    "    value=[255, 255, 255]\n",
    ")\n",
    "\n",
    "thresh = 0\n",
    "im_bw = cv2.threshold(border, thresh, 255, cv2.THRESH_BINARY + cv2.THRESH_OTSU)[1]\n",
    "\n",
    "thresh = cv2.adaptiveThreshold(\n",
    "        im_bw, 255, cv2.ADAPTIVE_THRESH_GAUSSIAN_C, cv2.THRESH_BINARY_INV, 11, 2\n",
    "    )\n",
    "\n",
    "kernel = np.ones((3, 3), np.uint8)\n",
    "dilated = cv2.dilate(thresh, kernel, iterations=1)\n",
    "eroded = cv2.erode(dilated, kernel, iterations=1)\n",
    "\n",
    "magem = cv2.bitwise_not(im_bw)\n",
    "\n",
    "letter_boxes = pytesseract.image_to_boxes(image_ball,lang='eng')\n",
    "\n",
    "height, width,c = image_ball.shape\n",
    "\n",
    "for box in letter_boxes.splitlines():\n",
    "    box = box.split()\n",
    "    x,y,w,h = int(box[1]),int(box[2]),int(box[3]),int(box[4])\n",
    "    cv2.rectangle(image_ball, (x, height - y), (w, height - h), (255,0,0), 3)\n",
    "    cv2.putText(image_ball, box[0], (x,height-h+32), cv2.FONT_HERSHEY_COMPLEX,1,(255,0,0),2)\n",
    "    print(box)\n",
    "    \n",
    "cv2.imshow(\"window\", image_ball)\n",
    "cv2.waitKey(0)"
   ]
  },
  {
   "cell_type": "code",
   "execution_count": null,
   "id": "c076cea1-f9bf-4c3c-9f27-81c5949402b8",
   "metadata": {},
   "outputs": [],
   "source": []
  }
 ],
 "metadata": {
  "kernelspec": {
   "display_name": "Python 3 (ipykernel)",
   "language": "python",
   "name": "python3"
  },
  "language_info": {
   "codemirror_mode": {
    "name": "ipython",
    "version": 3
   },
   "file_extension": ".py",
   "mimetype": "text/x-python",
   "name": "python",
   "nbconvert_exporter": "python",
   "pygments_lexer": "ipython3",
   "version": "3.11.8"
  }
 },
 "nbformat": 4,
 "nbformat_minor": 5
}
